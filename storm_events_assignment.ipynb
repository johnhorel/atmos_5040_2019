{
 "cells": [
  {
   "cell_type": "markdown",
   "metadata": {},
   "source": [
    "# Storm Events - Cost and Fatalities\n",
    "### The following notebook works with a dataset involving major storm events, the damage associated with them, and the loss of life involved in these events. The goal here is to show you how these datasets can be characterized, worked with, and interpreted. "
   ]
  },
  {
   "cell_type": "code",
   "execution_count": null,
   "metadata": {},
   "outputs": [],
   "source": [
    "#Import our necessary packages\n",
    "import numpy as np\n",
    "import pandas as pd\n",
    "from pandas import Series, DataFrame\n",
    "from scipy import stats\n",
    "import matplotlib.pyplot as plt\n",
    "from datetime import datetime"
   ]
  },
  {
   "cell_type": "code",
   "execution_count": null,
   "metadata": {
    "scrolled": true
   },
   "outputs": [],
   "source": [
    "#look at the raw data files. For explanations, see Storm-Data-Export-Format.pdf in the data directory\n",
    "sed = pd.read_csv('atmos_5040_2019/data/StormEvents_details_2018.csv',delimiter=',')\n",
    "sef = pd.read_csv('atmos_5040_2019/data/StormEvents_fatalities_2018.csv',delimiter=',')"
   ]
  },
  {
   "cell_type": "code",
   "execution_count": null,
   "metadata": {},
   "outputs": [],
   "source": [
    "#show event details- note you don't see all columns and rows\n",
    "sed"
   ]
  },
  {
   "cell_type": "code",
   "execution_count": null,
   "metadata": {},
   "outputs": [],
   "source": [
    "# determine the number of events \n",
    "no_sed = len(sed)\n",
    "no_sed"
   ]
  },
  {
   "cell_type": "code",
   "execution_count": null,
   "metadata": {},
   "outputs": [],
   "source": [
    "#what are the column labels\n",
    "sed.columns"
   ]
  },
  {
   "cell_type": "code",
   "execution_count": null,
   "metadata": {},
   "outputs": [],
   "source": [
    "#what types of events have happened in 2018?\n",
    "types_events = sed.EVENT_TYPE.unique()\n",
    "types_events"
   ]
  },
  {
   "cell_type": "code",
   "execution_count": null,
   "metadata": {},
   "outputs": [],
   "source": [
    "#just trust me, this converts 1.00K to 1000, 1.50M to 1500000, etc.\n",
    "sed.DAMAGE_PROPERTY = (sed.DAMAGE_PROPERTY.replace(r'[KMB]+$', '', regex=True).astype(float) * \\\n",
    "sed.DAMAGE_PROPERTY.str.extract(r'[\\d\\.]+([KMB]+)', expand=False).fillna(1).replace(['K','M','B'], [10**3, 10**6, 10**9]).astype(int))"
   ]
  },
  {
   "cell_type": "code",
   "execution_count": null,
   "metadata": {},
   "outputs": [],
   "source": [
    "sed.DAMAGE_CROPS = (sed.DAMAGE_CROPS.replace(r'[KMB]+$', '', regex=True).astype(float) * \\\n",
    "sed.DAMAGE_CROPS.str.extract(r'[\\d\\.]+([KMB]+)', expand=False).fillna(1).replace(['K','M','B'], [10**3, 10**6, 10**9]).astype(int))"
   ]
  },
  {
   "cell_type": "code",
   "execution_count": null,
   "metadata": {},
   "outputs": [],
   "source": [
    "#total $ losses\n",
    "total_losses=sed.DAMAGE_PROPERTY.sum()+sed.DAMAGE_CROPS.sum()\n",
    "print(\"$\",total_losses)\n",
    "# yowsa!"
   ]
  },
  {
   "cell_type": "code",
   "execution_count": null,
   "metadata": {},
   "outputs": [],
   "source": [
    "sed['TOTAL_LOSS'] = sed.apply(lambda row: row['DAMAGE_PROPERTY']+row['DAMAGE_CROPS'],axis=1)\n",
    "sed['OVER_MIL_COUNT'] = sed.apply(lambda row: 1 if row['TOTAL_LOSS']>1000000 else 0,axis=1)\n",
    "sed['OVER_MIL_VAL'] = sed.apply(lambda row: row['TOTAL_LOSS'] if row['TOTAL_LOSS']>1000000 else 0,axis=1)\n",
    "\n",
    "events = pd.DataFrame(sed.groupby('EVENT_TYPE').size(),columns = ['NUMBER'])\n",
    "events['COST'] = sed.groupby('EVENT_TYPE').sum()[['DAMAGE_PROPERTY','DAMAGE_CROPS']].apply(lambda row: row['DAMAGE_PROPERTY']+row['DAMAGE_CROPS'],axis=1)\n",
    "events['NUMBER_MIL'] = sed.groupby('EVENT_TYPE').sum()[['OVER_MIL_COUNT']]\n",
    "events['COST_MIL'] = sed.groupby('EVENT_TYPE').sum()[['OVER_MIL_VAL']]\n",
    "events"
   ]
  },
  {
   "cell_type": "markdown",
   "metadata": {},
   "source": [
    "### Question 1. Do you think the cost of droughts during 2018 is really zero? What other categories might be subject to lack of reporting and why? What surprises you in terms of the types of events, how many occurred, and how much they cost?"
   ]
  },
  {
   "cell_type": "markdown",
   "metadata": {},
   "source": [
    "#### Question 1 Answer Here"
   ]
  },
  {
   "cell_type": "code",
   "execution_count": null,
   "metadata": {},
   "outputs": [],
   "source": [
    "#what are the costliest types of events in 2018?\n",
    "ev_cost_large=events.nlargest(10, 'COST')\n",
    "ev_cost_large"
   ]
  },
  {
   "cell_type": "code",
   "execution_count": null,
   "metadata": {},
   "outputs": [],
   "source": [
    "#crude pie plot of the costliest event categories\n",
    "fig,ax=plt.subplots(figsize=(5,10))\n",
    "plt.pie(ev_cost_large['COST'])\n",
    "plt.legend(ev_cost_large.index,bbox_to_anchor=(0.9, 0.8))\n",
    "plt.show()"
   ]
  },
  {
   "cell_type": "code",
   "execution_count": null,
   "metadata": {},
   "outputs": [],
   "source": [
    "#show fatality details\n",
    "sef"
   ]
  },
  {
   "cell_type": "code",
   "execution_count": null,
   "metadata": {},
   "outputs": [],
   "source": [
    "#fatality column headers\n",
    "print(sef.columns)"
   ]
  },
  {
   "cell_type": "code",
   "execution_count": null,
   "metadata": {},
   "outputs": [],
   "source": [
    "#number of fatalities\n",
    "no_sef = len(sef)\n",
    "print(no_sef)"
   ]
  },
  {
   "cell_type": "code",
   "execution_count": null,
   "metadata": {},
   "outputs": [],
   "source": [
    "#what types of locations have been where fatalities occurred?\n",
    "types_locations = sef.FATALITY_LOCATION.unique()\n",
    "print(types_locations)"
   ]
  },
  {
   "cell_type": "code",
   "execution_count": null,
   "metadata": {},
   "outputs": [],
   "source": [
    "#how many of these types of locations have happened and how many fatalities have occurrred for each?\n",
    "#create new dataframe to hold summary statistics\n",
    "fatalities = pd.DataFrame(sef.groupby('FATALITY_LOCATION').size(),columns = ['NUMBER'])\n",
    "fatalities"
   ]
  },
  {
   "cell_type": "markdown",
   "metadata": {},
   "source": [
    "### Question 2. Create a pie plot of the fatalities by location\n",
    "Hint: Look at the code above!"
   ]
  },
  {
   "cell_type": "code",
   "execution_count": null,
   "metadata": {},
   "outputs": [],
   "source": [
    "#Question 2 code here\n"
   ]
  },
  {
   "cell_type": "markdown",
   "metadata": {},
   "source": [
    "### Question 3. Use one line plot a histogram of the ages of the fatalities\n",
    "hint: dataframe.hist(column='...') "
   ]
  },
  {
   "cell_type": "code",
   "execution_count": null,
   "metadata": {},
   "outputs": [],
   "source": [
    "#Question 3 code here"
   ]
  },
  {
   "cell_type": "markdown",
   "metadata": {},
   "source": [
    "### Followup Question 3.1- is the risk of dying higher for the young (under 30) or old (over 60) from a weather event?"
   ]
  },
  {
   "cell_type": "markdown",
   "metadata": {},
   "source": [
    "Question 3.1 Answer"
   ]
  },
  {
   "cell_type": "code",
   "execution_count": null,
   "metadata": {},
   "outputs": [],
   "source": [
    "#combine the year,month,day into one variable\n",
    "sef['DATE']=pd.to_datetime(sef.FAT_YEARMONTH*100 + sef.FAT_DAY,format='%Y%m%d')"
   ]
  },
  {
   "cell_type": "code",
   "execution_count": null,
   "metadata": {},
   "outputs": [],
   "source": [
    "#what days of the week did the fatalities happen?\n",
    "sef['DOW']=sef.DATE.dt.day_name()\n",
    "sef['DOW_num'] = sef.DATE.dt.dayofweek"
   ]
  },
  {
   "cell_type": "code",
   "execution_count": null,
   "metadata": {},
   "outputs": [],
   "source": [
    "#Create a series object wiht the count of how many fatalities occured on each day of the week\n",
    "sef_dow_counts = sef.groupby('DOW').size()\n",
    "sef_dow_counts"
   ]
  },
  {
   "cell_type": "markdown",
   "metadata": {},
   "source": [
    "### Question 4. Plot a histogram of the days of the week fatalities occurred\n",
    "(Answer Given)"
   ]
  },
  {
   "cell_type": "code",
   "execution_count": null,
   "metadata": {},
   "outputs": [],
   "source": [
    "# here's how not to do it\n",
    "sef.hist(column='DOW_num')\n",
    "plt.show()"
   ]
  },
  {
   "cell_type": "code",
   "execution_count": null,
   "metadata": {},
   "outputs": [],
   "source": [
    "sef['DOW'].value_counts().plot(kind='bar');"
   ]
  },
  {
   "cell_type": "code",
   "execution_count": null,
   "metadata": {},
   "outputs": [],
   "source": [
    "#Try doing it this way:\n",
    "fig,ax = plt.subplots(figsize=(10,5))\n",
    "labels = sef_dow_counts.index.values\n",
    "labels_pos = np.arange(len(labels))\n",
    "plt.bar(labels_pos,sef_dow_counts)\n",
    "plt.xticks(labels_pos,labels)\n",
    "plt.show()"
   ]
  },
  {
   "cell_type": "code",
   "execution_count": null,
   "metadata": {},
   "outputs": [],
   "source": [
    "#group all by the date and then count how many are in each day\n",
    "sef_date_count = sef.groupby(sef['DATE']).size()\n",
    "sef_date_count.plot(figsize=(15,4),title='2018 Fatalities')\n",
    "plt.show()"
   ]
  },
  {
   "cell_type": "markdown",
   "metadata": {},
   "source": [
    "### Question 5. Write code to output the day within the dataset with the maximum number of fatalities\n",
    "Hint: use idxmax"
   ]
  },
  {
   "cell_type": "code",
   "execution_count": null,
   "metadata": {},
   "outputs": [],
   "source": [
    "#Question 5 Code here\n"
   ]
  },
  {
   "cell_type": "markdown",
   "metadata": {},
   "source": [
    "### Question 6. Use the sef dataframe to print the locations of fatalities that happened on the day with the maximum fatalities.\n",
    "hint - use \"dataframe.loc[somecondition]\"     \n",
    "hint - https://stackoverflow.com/questions/44890713/selection-with-loc-in-python     \n",
    "hint - https://pandas.pydata.org/pandas-docs/stable/reference/api/pandas.DataFrame.loc.html"
   ]
  },
  {
   "cell_type": "code",
   "execution_count": null,
   "metadata": {},
   "outputs": [],
   "source": [
    "#Question 6 Code Here\n"
   ]
  },
  {
   "cell_type": "markdown",
   "metadata": {},
   "source": [
    "### Followup question 6.1 - why is so much info unknown/unavailable on this day?"
   ]
  },
  {
   "cell_type": "markdown",
   "metadata": {},
   "source": [
    "6.1 Answer here"
   ]
  },
  {
   "cell_type": "code",
   "execution_count": null,
   "metadata": {},
   "outputs": [],
   "source": [
    "#now process the events\n",
    "sed['DATE']=pd.to_datetime(sed.BEGIN_YEARMONTH*100 + sed.BEGIN_DAY,format='%Y%m%d')"
   ]
  },
  {
   "cell_type": "markdown",
   "metadata": {},
   "source": [
    "### Question 7. Use the \"sed\" dataframe to print the types of events happened on this day.\n",
    "hint: use your knowlege of dataframe.loc[somecondition] from question 6 and apply to the \"sed\" dataframe"
   ]
  },
  {
   "cell_type": "code",
   "execution_count": null,
   "metadata": {},
   "outputs": [],
   "source": [
    "#Question 7 Code Here\n"
   ]
  },
  {
   "cell_type": "markdown",
   "metadata": {},
   "source": [
    "### Are you getting a sense of what was the key weather event on max_day_fat?"
   ]
  },
  {
   "cell_type": "markdown",
   "metadata": {},
   "source": [
    "### Question 8. Create another column in \"sed\" to store the day of the week that each event happened\n",
    "hint: sed['DoW'] = refer to between question 3 and 4\n"
   ]
  },
  {
   "cell_type": "code",
   "execution_count": null,
   "metadata": {},
   "outputs": [],
   "source": [
    "#Question 8 Code Here\n"
   ]
  },
  {
   "cell_type": "markdown",
   "metadata": {},
   "source": [
    "### Followup code 8.1. Create a variable called sed_day_count has \"DOW\" as the index and a count of the number of events that happened on that day of the week as the only column. \n",
    "Hint: use groupby    \n",
    "Hint: look at the code just before question 4\n"
   ]
  },
  {
   "cell_type": "code",
   "execution_count": null,
   "metadata": {},
   "outputs": [],
   "source": [
    "#Question 8.1 code here"
   ]
  },
  {
   "cell_type": "markdown",
   "metadata": {},
   "source": [
    "### Question 9. Plot a histogram of the number of events that occurred during each day of the week\n"
   ]
  },
  {
   "cell_type": "code",
   "execution_count": null,
   "metadata": {},
   "outputs": [],
   "source": [
    "#Question 9 code here"
   ]
  },
  {
   "cell_type": "markdown",
   "metadata": {},
   "source": [
    "### Question 10. Plot a time series of the events on each day during 2018 - day on the x axis and number of events on the y axis\n",
    "Hint: Look at just before question 5"
   ]
  },
  {
   "cell_type": "code",
   "execution_count": null,
   "metadata": {},
   "outputs": [],
   "source": [
    "#Question 10 Code"
   ]
  },
  {
   "cell_type": "markdown",
   "metadata": {},
   "source": [
    "### Question 11. Like question 6, print the day with the maximum number of events. \n"
   ]
  },
  {
   "cell_type": "code",
   "execution_count": null,
   "metadata": {},
   "outputs": [],
   "source": [
    "# Question 11 Code\n"
   ]
  },
  {
   "cell_type": "markdown",
   "metadata": {},
   "source": [
    "### Followup Question 11.1: Print the events that happened on the day with the max events.\n"
   ]
  },
  {
   "cell_type": "code",
   "execution_count": null,
   "metadata": {},
   "outputs": [],
   "source": [
    "#Question 11.1 Code"
   ]
  },
  {
   "cell_type": "markdown",
   "metadata": {},
   "source": [
    "### Question 12. What is the percentage of events that occured in Utah?\n",
    "Hint: use the \"state\" column to count the number of events that occured in Utah,  and divide that by the total number of events"
   ]
  },
  {
   "cell_type": "code",
   "execution_count": null,
   "metadata": {},
   "outputs": [],
   "source": [
    "#Question 12 Code"
   ]
  },
  {
   "cell_type": "markdown",
   "metadata": {},
   "source": [
    "### Question 13. There's a lot of data in these two files. Poke around and come up with something interesting to discuss! This question doesn't require you to write complicated code"
   ]
  },
  {
   "cell_type": "code",
   "execution_count": null,
   "metadata": {},
   "outputs": [],
   "source": [
    "#Question 13 Answer"
   ]
  }
 ],
 "metadata": {
  "kernelspec": {
   "display_name": "Python 3",
   "language": "python",
   "name": "python3"
  },
  "language_info": {
   "codemirror_mode": {
    "name": "ipython",
    "version": 3
   },
   "file_extension": ".py",
   "mimetype": "text/x-python",
   "name": "python",
   "nbconvert_exporter": "python",
   "pygments_lexer": "ipython3",
   "version": "3.7.4"
  }
 },
 "nbformat": 4,
 "nbformat_minor": 4
}
