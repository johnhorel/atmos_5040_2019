{
 "cells": [
  {
   "cell_type": "code",
   "execution_count": null,
   "metadata": {},
   "outputs": [],
   "source": [
    "import pandas as pd\n",
    "import numpy as np\n",
    "import os \n",
    "import matplotlib.pyplot as plt\n",
    "import matplotlib.dates as mdates\n",
    "from pandas.plotting import register_matplotlib_converters\n",
    "register_matplotlib_converters()\n",
    "tower = pd.read_csv('data/tower_data.csv')\n",
    "source = pd.read_csv('data/source_data.csv',names = ['EPOCH_TIME','CO2','Local_DT'])\n",
    "source['Local_DT'] = pd.to_datetime(source['Local_DT'])\n",
    "tower['Local_DT'] = pd.to_datetime(tower['Local_DT'])"
   ]
  },
  {
   "cell_type": "markdown",
   "metadata": {},
   "source": [
    "### Functions\n",
    "A function is a defined piece of code which can take in inputs, perform some operations, and give an outputs. Using functions becomes helpful when we want to do a task over and over with similar input values. "
   ]
  },
  {
   "cell_type": "code",
   "execution_count": null,
   "metadata": {},
   "outputs": [],
   "source": [
    "#A most basic function - printing the input\n",
    "def myfunc(input1):\n",
    "    print(\"input1 = \",input1)"
   ]
  },
  {
   "cell_type": "code",
   "execution_count": null,
   "metadata": {},
   "outputs": [],
   "source": [
    "myfunc(5)"
   ]
  },
  {
   "cell_type": "code",
   "execution_count": null,
   "metadata": {},
   "outputs": [],
   "source": [
    "#A more complicated function - squaring the input and returning a result\n",
    "def square(input1):\n",
    "    sq = input1**2\n",
    "    return sq"
   ]
  },
  {
   "cell_type": "code",
   "execution_count": null,
   "metadata": {},
   "outputs": [],
   "source": [
    "x = square(5)\n",
    "print(x)"
   ]
  },
  {
   "cell_type": "code",
   "execution_count": null,
   "metadata": {},
   "outputs": [],
   "source": [
    "print(input1)"
   ]
  },
  {
   "cell_type": "code",
   "execution_count": null,
   "metadata": {},
   "outputs": [],
   "source": [
    "#A plotting function\n",
    "def plot_func(dataframe):\n",
    "    fig,ax = plt.subplots() #setup the figure\n",
    "    ax.plot(dataframe['Local_DT'],dataframe['CO2']) #plot the data\n",
    "    ax.xaxis.set_major_formatter(mdates.DateFormatter(\"%H:%M\"))\n",
    "    plt.gcf().autofmt_xdate() #get a nice date format for the x axis\n",
    "    ax.set_title('CO2 Levels Exiting Vent')\n",
    "    ax.set_xlabel('Time')\n",
    "    ax.set_ylabel('CO2 (ppm)')\n",
    "    plt.show()"
   ]
  },
  {
   "cell_type": "code",
   "execution_count": null,
   "metadata": {},
   "outputs": [],
   "source": [
    "plot_func(tower)"
   ]
  },
  {
   "cell_type": "markdown",
   "metadata": {},
   "source": [
    "### Running Functions on Dataframes\n",
    "Often we want to do row and column operations like we would in excel. Take the tower dataset for example - we have and X, Y, and Z velocity. Suppose we want to know the direction and speed of air in the XY plane. How would we create a new column representing these values? "
   ]
  },
  {
   "cell_type": "code",
   "execution_count": null,
   "metadata": {},
   "outputs": [],
   "source": [
    "tower.head()"
   ]
  },
  {
   "cell_type": "code",
   "execution_count": null,
   "metadata": {},
   "outputs": [],
   "source": [
    "def wind_dir(x,y):\n",
    "    result = np.arctan2(x,y)/np.pi*180\n",
    "    return result"
   ]
  },
  {
   "cell_type": "code",
   "execution_count": null,
   "metadata": {},
   "outputs": [],
   "source": [
    "tower['direction'] = tower.apply(lambda row: wind_dir(row['ANEM_X'],row['ANEM_Y']),axis=1)"
   ]
  },
  {
   "cell_type": "markdown",
   "metadata": {},
   "source": [
    "### Challenge \n",
    "Write a function that takes in two inputs - x and y, and returns the velocity vector based on the input x and y velocities. Then apply this to the tower dataframe similar to above to create a 'speed' column"
   ]
  },
  {
   "cell_type": "code",
   "execution_count": null,
   "metadata": {},
   "outputs": [],
   "source": []
  },
  {
   "cell_type": "code",
   "execution_count": null,
   "metadata": {},
   "outputs": [],
   "source": []
  }
 ],
 "metadata": {
  "kernelspec": {
   "display_name": "Python 3",
   "language": "python",
   "name": "python3"
  },
  "language_info": {
   "codemirror_mode": {
    "name": "ipython",
    "version": 3
   },
   "file_extension": ".py",
   "mimetype": "text/x-python",
   "name": "python",
   "nbconvert_exporter": "python",
   "pygments_lexer": "ipython3",
   "version": "3.7.4"
  }
 },
 "nbformat": 4,
 "nbformat_minor": 4
}
