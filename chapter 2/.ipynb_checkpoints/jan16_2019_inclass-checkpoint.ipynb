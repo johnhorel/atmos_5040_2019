{
 "cells": [
  {
   "cell_type": "markdown",
   "metadata": {},
   "source": [
    "# Basic info that should be at the beginning of  every jupyter notebook\n",
    "* John Horel\n",
    "* ATMOS 5040/ Spring 2019\n",
    "* January 16 inclass assignment\n",
    "* Requires alta_snow.csv"
   ]
  },
  {
   "cell_type": "markdown",
   "metadata": {},
   "source": [
    "**January 16 2019**  \n",
    "**ATMOS 5040: Environmental Statistics**  \n",
    "**John Horel **\n",
    "\n",
    "Download this notebook and all images and data by downloading the ZIP file from GitHub, or use the git command:\n",
    "\n",
    "    git clone https://github.com/johnhorel/ATMOS_5040_2019.git\n",
    "    \n",
    "> Note: Windows users will have to install [git for Windows](https://gitforwindows.org/) and execute the git command from the PowerShell."
   ]
  },
  {
   "cell_type": "markdown",
   "metadata": {},
   "source": [
    "# Using Python modules\n",
    "\n",
    "`numpy` provides routines to handle arrays and many calculations efficiently and imported by convention as `np`. Numpy functions are very good at handling homogeneous data arrays (and similar in that respect to matlab functions).\n",
    "\n",
    "`pyplot` is a _submodule_ of matplotlib. It is typically imported as the alias `plt` to handle basic plotting"
   ]
  },
  {
   "cell_type": "code",
   "execution_count": 41,
   "metadata": {},
   "outputs": [],
   "source": [
    "import numpy as np\n",
    "import matplotlib.pyplot as plt"
   ]
  },
  {
   "cell_type": "markdown",
   "metadata": {},
   "source": [
    "---\n",
    "\n",
    "# January 16, 2019 Inclass assignment\n",
    "\n",
    "# Long-term variations in Alta snowfall\n",
    "\n",
    "For info on the data\n",
    "http://utahavalanchecenter.org/alta-monthly-snowfall\n",
    "\n",
    "On GitHub, look in the `data` folder for a file called `alta_snow.csv` and download it. \n",
    "\n",
    "Open the `alta_snow.csv` file in the Jupyter Lab environment to see the column contents and the units.\n",
    "\n",
    "-column 0 is the year and column 7 is the seasonal total\n"
   ]
  },
  {
   "cell_type": "code",
   "execution_count": 46,
   "metadata": {},
   "outputs": [
    {
     "name": "stdout",
     "output_type": "stream",
     "text": [
      " John Horel\n",
      " ATMOS 5040/ Spring 2019\n",
      " January 16 inclass assignment\n",
      " Requires alta_snow.csv\n"
     ]
    }
   ],
   "source": []
  },
  {
   "cell_type": "code",
   "execution_count": 42,
   "metadata": {},
   "outputs": [],
   "source": [
    "#read the lake level data\n",
    "year = np.genfromtxt('../data/alta_snow.csv', delimiter=',', usecols=0)\n",
    "#convert seasonal totals from inches to cm\n",
    "tot = 2.54 * np.genfromtxt('../data/alta_snow.csv', delimiter=',', usecols=7)"
   ]
  },
  {
   "cell_type": "code",
   "execution_count": 43,
   "metadata": {},
   "outputs": [
    {
     "name": "stdout",
     "output_type": "stream",
     "text": [
      "[1946. 1947. 1948. 1949. 1950. 1951. 1952. 1953. 1954. 1955. 1956. 1957.\n",
      " 1958. 1959. 1960. 1961. 1962. 1963. 1964. 1965. 1966. 1967. 1968. 1969.\n",
      " 1970. 1971. 1972. 1973. 1974. 1975. 1976. 1977. 1978. 1979. 1980. 1981.\n",
      " 1982. 1983. 1984. 1985. 1986. 1987. 1988. 1989. 1990. 1991. 1992. 1993.\n",
      " 1994. 1995. 1996. 1997. 1998. 1999. 2000. 2001. 2002. 2003. 2004. 2005.\n",
      " 2006. 2007. 2008. 2009. 2010. 2011. 2012. 2013. 2014. 2015. 2016. 2017.\n",
      " 2018.]\n",
      "[1145.54   949.96  1394.46  1328.42  1211.58   886.46  1628.14  1043.94\n",
      "  972.82  1198.88  1168.4    980.44  1421.13   980.44  1004.57   828.04\n",
      " 1019.81  1018.54  1437.64  1455.42  1099.82  1381.76  1217.93  1437.894\n",
      " 1165.86  1223.01  1185.164 1261.11  1512.824 1536.7   1116.33   798.83\n",
      " 1332.23  1493.52  1305.56   993.14  1767.84  1617.98  1888.49  1160.78\n",
      " 1521.46   969.772 1042.162 1477.01  1137.92  1473.708 1003.3   1652.016\n",
      " 1245.362 1893.316 1427.48  1521.714 1460.246 1164.336 1132.84  1193.038\n",
      " 1441.958 1014.476 1449.832 1406.144 1609.09   904.24  1661.16  1468.12\n",
      " 1092.2   1404.62   836.93   971.55   908.05   679.45   998.22  1347.47\n",
      "  731.52 ]\n"
     ]
    }
   ],
   "source": [
    "print(year)\n",
    "print(tot)"
   ]
  },
  {
   "cell_type": "markdown",
   "metadata": {},
   "source": [
    "# Do some basic calcs on the Alta snowfall data"
   ]
  },
  {
   "cell_type": "code",
   "execution_count": 44,
   "metadata": {},
   "outputs": [
    {
     "name": "stdout",
     "output_type": "stream",
     "text": [
      "number of years=  73\n",
      "mean seasonal total=  1244.00 cm\n",
      "year of max seasonal total and amount: 1995 1893.3 cm\n",
      "year of min seasonal total and amount: 2015 679.5 cm\n"
     ]
    }
   ],
   "source": [
    "# determine the number of years\n",
    "ny = len(year)\n",
    "print('number of years= ',ny)\n",
    "#compute the mean of seasonal totals\n",
    "mmn = np.mean(tot)\n",
    "print('mean seasonal total= %8.2f cm'% (mmn))\n",
    "#find the max seasonal value and the year of that max\n",
    "maxs = np.max(tot)\n",
    "mxi = np.argmax(tot)\n",
    "print(\"year of max seasonal total and amount: %d %.1f cm\" % (year[mxi],maxs))\n",
    "#find the min seasonal value and the year of that min\n",
    "mins = np.min(tot)\n",
    "mni = np.argmin(tot)\n",
    "print(\"year of min seasonal total and amount: %d %.1f cm\" % (year[mni],mins))"
   ]
  },
  {
   "cell_type": "markdown",
   "metadata": {},
   "source": [
    "# Figure 2.1\n",
    "\n",
    "Create bar plot time series of Alta seasonal snowfall totals"
   ]
  },
  {
   "cell_type": "code",
   "execution_count": 45,
   "metadata": {},
   "outputs": [
    {
     "data": {
      "image/png": "[encoded data removed]",
      "text/plain": [
       "<Figure size 720x360 with 1 Axes>"
      ]
     },
     "metadata": {},
     "output_type": "display_data"
    }
   ],
   "source": [
    "ticks = np.arange(1950,2020,5)\n",
    "\n",
    "fig,(ax1) = plt.subplots(1,1,figsize=(10,5))\n",
    "ax1.bar(year,tot,color='green')\n",
    "ax1.set(xlim=(1946,2018),ylim=(500,2000))\n",
    "ax1.set(xlabel=\"Year\",ylabel='Snow Total (cm)')\n",
    "ax1.set(xticks=ticks)\n",
    "ax1.set(title=\"Alta water year snow total (cm) John Horel 1/13/2019\")\n",
    "ax1.grid(linestyle='--', color='grey', linewidth=.2)\n",
    "\n",
    "plt.savefig('alta_anow_inclass_2019_python.png')\n"
   ]
  }
 ],
 "metadata": {
  "kernelspec": {
   "display_name": "Python 3",
   "language": "python",
   "name": "python3"
  },
  "language_info": {
   "codemirror_mode": {
    "name": "ipython",
    "version": 3
   },
   "file_extension": ".py",
   "mimetype": "text/x-python",
   "name": "python",
   "nbconvert_exporter": "python",
   "pygments_lexer": "ipython3",
   "version": "3.6.5"
  }
 },
 "nbformat": 4,
 "nbformat_minor": 2
}
