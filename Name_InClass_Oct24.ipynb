{
 "cells": [
  {
   "cell_type": "markdown",
   "metadata": {},
   "source": [
    "# In Class Assignment October 24, 2019\n",
    "The goal of this in class assignment is to have you work with functional programming, pandas dataframes, and importing data. Complete the following tasks below, change the file name to your own, and upload your completed notebook to the teams page. "
   ]
  },
  {
   "cell_type": "markdown",
   "metadata": {},
   "source": [
    "### Part 1: Importing the Data\n",
    "Simply run the cell below to import and format the data to the necessary dataframes"
   ]
  },
  {
   "cell_type": "code",
   "execution_count": null,
   "metadata": {},
   "outputs": [],
   "source": [
    "import pandas as pd\n",
    "import numpy as np\n",
    "import os \n",
    "import matplotlib.pyplot as plt\n",
    "import matplotlib.dates as mdates\n",
    "from pandas.plotting import register_matplotlib_converters\n",
    "register_matplotlib_converters()\n",
    "tower = pd.read_csv('data/tower_data.csv')\n",
    "source = pd.read_csv('data/source_data.csv',names = ['EPOCH_TIME','CO2','Local_DT'])\n",
    "source['Local_DT'] = pd.to_datetime(source['Local_DT'])\n",
    "tower['Local_DT'] = pd.to_datetime(tower['Local_DT'])\n",
    "tower['direction'] = tower.apply(lambda row: np.arctan2(row['ANEM_X'],row['ANEM_Y'])/np.pi*180,axis=1)\n",
    "tower['speed'] = tower.apply(lambda row: np.sqrt(row['ANEM_X']**2+row['ANEM_Y']**2),axis = 1)"
   ]
  },
  {
   "cell_type": "markdown",
   "metadata": {},
   "source": [
    "### Part 2: Write a Plotting Function\n",
    "Write a function that takes two inputs: a dataframe object, and a string corresponding to a column of the dataframe (in the form 'blah'). The function should plot the datetime on the x axis, and whatever the input string is on the y axis. For example, if you were to run your function with the input"
   ]
  },
  {
   "cell_type": "markdown",
   "metadata": {},
   "source": [
    "**plotting_func(tower,'CO2')**"
   ]
  },
  {
   "cell_type": "markdown",
   "metadata": {},
   "source": [
    "The function should output a plot of CO2 with respect to time. "
   ]
  },
  {
   "cell_type": "code",
   "execution_count": null,
   "metadata": {},
   "outputs": [],
   "source": [
    "#Your Function Here\n",
    "def plotting_function(#name your variables here):\n",
    "    #write your function here"
   ]
  },
  {
   "cell_type": "code",
   "execution_count": null,
   "metadata": {},
   "outputs": [],
   "source": [
    "#test run your function here\n",
    "plotting_func(tower,'CO2')"
   ]
  },
  {
   "cell_type": "markdown",
   "metadata": {},
   "source": [
    "### Part 3: Write a \"Clipping\" function\n",
    "Let's say we want to plot only a portion of the data. We need to figure out how to \"clip\" the data betweeen two datetimes. Write a function that takes in THREE inputs - a dataframe (that includes a Local_DT column like \"tower\" does), time1, and time2. The function should **return** a dataframe that only includes values between the two times you input. "
   ]
  },
  {
   "cell_type": "markdown",
   "metadata": {},
   "source": [
    "Hint 1: Look for a way to do this the \"loc\" feature of your dataframe. Example: **df.loc[df['col1']>2]** will return all values in df where the values in 'col1' of the df are greater than 2. Another option would be pd.where, but you will have to figure out how to deal with the NaN values this function creates. "
   ]
  },
  {
   "cell_type": "markdown",
   "metadata": {},
   "source": [
    "Hint 2: When inputting datetimes into this function, you will likely want to input them within a single quote such as '2018-09-05 08:00:00'"
   ]
  },
  {
   "cell_type": "code",
   "execution_count": null,
   "metadata": {},
   "outputs": [],
   "source": [
    "#Your Function Here\n",
    "def clip_function(df,time1,time2):\n",
    "    return result"
   ]
  },
  {
   "cell_type": "code",
   "execution_count": null,
   "metadata": {},
   "outputs": [],
   "source": [
    "#You can test your function here, it should simply show up with a dataframe of the values\n",
    "clip_function(tower,'10:00:00','12:00:00')"
   ]
  },
  {
   "cell_type": "code",
   "execution_count": null,
   "metadata": {},
   "outputs": [],
   "source": [
    "#Now we can combine the functions:\n",
    "plotting_function(clip_function(tower,'10:00:00','12:00:00'),CO2)"
   ]
  }
 ],
 "metadata": {
  "kernelspec": {
   "display_name": "Python 3",
   "language": "python",
   "name": "python3"
  },
  "language_info": {
   "codemirror_mode": {
    "name": "ipython",
    "version": 3
   },
   "file_extension": ".py",
   "mimetype": "text/x-python",
   "name": "python",
   "nbconvert_exporter": "python",
   "pygments_lexer": "ipython3",
   "version": "3.7.4"
  }
 },
 "nbformat": 4,
 "nbformat_minor": 4
}
