{
 "cells": [
  {
   "cell_type": "markdown",
   "metadata": {},
   "source": [
    "# In Class Assignment October 24, 2019\n",
    "The goal of this in class assignment is to have you work with functional programming, pandas dataframes, and importing data. Complete the following tasks below, change the file name to your own, and upload your completed notebook to the teams page. "
   ]
  },
  {
   "cell_type": "markdown",
   "metadata": {},
   "source": [
    "### Part 1: Importing the Data\n",
    "Simply run the cell below to import and format the data to the necessary dataframes"
   ]
  },
  {
   "cell_type": "code",
   "execution_count": 1,
   "metadata": {},
   "outputs": [],
   "source": [
    "import pandas as pd\n",
    "import numpy as np\n",
    "import os \n",
    "import matplotlib.pyplot as plt\n",
    "import matplotlib.dates as mdates\n",
    "from pandas.plotting import register_matplotlib_converters\n",
    "register_matplotlib_converters()\n",
    "tower = pd.read_csv('data/tower_data.csv')\n",
    "source = pd.read_csv('data/source_data.csv',names = ['EPOCH_TIME','CO2','Local_DT'])\n",
    "source['Local_DT'] = pd.to_datetime(source['Local_DT'])\n",
    "tower['Local_DT'] = pd.to_datetime(tower['Local_DT'])\n",
    "tower['direction'] = tower.apply(lambda row: np.arctan2(row['ANEM_X'],row['ANEM_Y'])/np.pi*180,axis=1)\n",
    "tower['speed'] = tower.apply(lambda row: np.sqrt(row['ANEM_X']**2+row['ANEM_Y']**2),axis = 1)"
   ]
  },
  {
   "cell_type": "markdown",
   "metadata": {},
   "source": [
    "### Part 2: Write a Plotting Function\n",
    "Write a function that takes two inputs: a dataframe object, and a string corresponding to a column of the dataframe (in the form 'blah'). The function should plot the datetime on the x axis, and whatever the input string is on the y axis. For example, if you were to run your function with the input"
   ]
  },
  {
   "cell_type": "markdown",
   "metadata": {},
   "source": [
    "**plotting_func(tower,'CO2')**"
   ]
  },
  {
   "cell_type": "markdown",
   "metadata": {},
   "source": [
    "The function should output a plot of CO2 with respect to time. "
   ]
  },
  {
   "cell_type": "code",
   "execution_count": null,
   "metadata": {},
   "outputs": [],
   "source": [
    "#Your Function Here\n",
    "def plotting_func(#name your variables here):\n",
    "    #write your function here"
   ]
  },
  {
   "cell_type": "code",
   "execution_count": 4,
   "metadata": {},
   "outputs": [],
   "source": [
    "#Answer\n",
    "def plotting_func(dataframe,y_axis):\n",
    "    fig,ax = plt.subplots()\n",
    "    ax.plot(dataframe['Local_DT'],dataframe[y_axis])\n",
    "    ax.xaxis.set_major_formatter(mdates.DateFormatter(\"%H:%M\"))\n",
    "    plt.gcf().autofmt_xdate() #get a nice date format for the x axis\n",
    "    ax.set_title('{} Versus Time'.format(y_axis))\n",
    "    ax.set_xlabel('Time')\n",
    "    ax.set_ylabel(y_axis)\n",
    "    plt.show()"
   ]
  },
  {
   "cell_type": "code",
   "execution_count": 6,
   "metadata": {},
   "outputs": [
    {
     "data": {
      "image/png": "[encoded data removed]",
      "text/plain": [
       "<Figure size 432x288 with 1 Axes>"
      ]
     },
     "metadata": {
      "needs_background": "light"
     },
     "output_type": "display_data"
    }
   ],
   "source": [
    "#test run your function here\n",
    "plotting_func(tower,'ANEM_Y')"
   ]
  },
  {
   "cell_type": "markdown",
   "metadata": {},
   "source": [
    "### Part 3: Write a \"Clipping\" function\n",
    "Let's say we want to plot only a portion of the data. We need to figure out how to \"clip\" the data betweeen two datetimes. Write a function that takes in THREE inputs - a dataframe (that includes a Local_DT column like \"tower\" does), time1, and time2. The function should **return** a dataframe that only includes values between the two times you input. "
   ]
  },
  {
   "cell_type": "markdown",
   "metadata": {},
   "source": [
    "Hint 1: Look for a way to do this the \"loc\" feature of your dataframe. Example: **df.loc[df['col1']>2]** will return all values in df where the values in 'col1' of the df are greater than 2. Another option would be pd.where, but you will have to figure out how to deal with the NaN values this function creates. "
   ]
  },
  {
   "cell_type": "markdown",
   "metadata": {},
   "source": [
    "Hint 2: When inputting datetimes into this function, you will likely want to input them within a single quote such as '2018-09-05 08:00:00'"
   ]
  },
  {
   "cell_type": "code",
   "execution_count": null,
   "metadata": {},
   "outputs": [],
   "source": [
    "#Your Function Here\n",
    "def clip_function(df,time1,time2):\n",
    "    return result"
   ]
  },
  {
   "cell_type": "code",
   "execution_count": 7,
   "metadata": {},
   "outputs": [],
   "source": [
    "#Answer\n",
    "def clip_function(df,time1,time2):\n",
    "    df_clipped = df.loc[(df['Local_DT']>=time1)&(df['Local_DT']<=time2)]\n",
    "    return df_clipped"
   ]
  },
  {
   "cell_type": "code",
   "execution_count": 9,
   "metadata": {},
   "outputs": [
    {
     "data": {
      "text/html": [
       "<div>\n",
       "<style scoped>\n",
       "    .dataframe tbody tr th:only-of-type {\n",
       "        vertical-align: middle;\n",
       "    }\n",
       "\n",
       "    .dataframe tbody tr th {\n",
       "        vertical-align: top;\n",
       "    }\n",
       "\n",
       "    .dataframe thead th {\n",
       "        text-align: right;\n",
       "    }\n",
       "</style>\n",
       "<table border=\"1\" class=\"dataframe\">\n",
       "  <thead>\n",
       "    <tr style=\"text-align: right;\">\n",
       "      <th></th>\n",
       "      <th>EPOCH_TIME</th>\n",
       "      <th>ANEM_X</th>\n",
       "      <th>ANEM_Y</th>\n",
       "      <th>ANEM_Z</th>\n",
       "      <th>CO2</th>\n",
       "      <th>Local_DT</th>\n",
       "      <th>direction</th>\n",
       "      <th>speed</th>\n",
       "    </tr>\n",
       "  </thead>\n",
       "  <tbody>\n",
       "    <tr>\n",
       "      <td>36000</td>\n",
       "      <td>1.536163e+09</td>\n",
       "      <td>0.162940</td>\n",
       "      <td>0.902600</td>\n",
       "      <td>-0.447760</td>\n",
       "      <td>422.339660</td>\n",
       "      <td>2018-09-05 10:00:00</td>\n",
       "      <td>10.232993</td>\n",
       "      <td>0.917189</td>\n",
       "    </tr>\n",
       "    <tr>\n",
       "      <td>36001</td>\n",
       "      <td>1.536163e+09</td>\n",
       "      <td>-0.506870</td>\n",
       "      <td>0.879580</td>\n",
       "      <td>-0.157040</td>\n",
       "      <td>422.856020</td>\n",
       "      <td>2018-09-05 10:00:01</td>\n",
       "      <td>-29.953285</td>\n",
       "      <td>1.015174</td>\n",
       "    </tr>\n",
       "    <tr>\n",
       "      <td>36002</td>\n",
       "      <td>1.536163e+09</td>\n",
       "      <td>-0.550660</td>\n",
       "      <td>0.774480</td>\n",
       "      <td>-0.056800</td>\n",
       "      <td>423.304450</td>\n",
       "      <td>2018-09-05 10:00:02</td>\n",
       "      <td>-35.413059</td>\n",
       "      <td>0.950287</td>\n",
       "    </tr>\n",
       "    <tr>\n",
       "      <td>36003</td>\n",
       "      <td>1.536163e+09</td>\n",
       "      <td>-0.403170</td>\n",
       "      <td>0.434370</td>\n",
       "      <td>-0.312370</td>\n",
       "      <td>423.561840</td>\n",
       "      <td>2018-09-05 10:00:03</td>\n",
       "      <td>-42.866607</td>\n",
       "      <td>0.592641</td>\n",
       "    </tr>\n",
       "    <tr>\n",
       "      <td>36004</td>\n",
       "      <td>1.536163e+09</td>\n",
       "      <td>-0.478720</td>\n",
       "      <td>0.164330</td>\n",
       "      <td>-0.345800</td>\n",
       "      <td>423.741850</td>\n",
       "      <td>2018-09-05 10:00:04</td>\n",
       "      <td>-71.054214</td>\n",
       "      <td>0.506139</td>\n",
       "    </tr>\n",
       "    <tr>\n",
       "      <td>...</td>\n",
       "      <td>...</td>\n",
       "      <td>...</td>\n",
       "      <td>...</td>\n",
       "      <td>...</td>\n",
       "      <td>...</td>\n",
       "      <td>...</td>\n",
       "      <td>...</td>\n",
       "      <td>...</td>\n",
       "    </tr>\n",
       "    <tr>\n",
       "      <td>43196</td>\n",
       "      <td>1.536170e+09</td>\n",
       "      <td>-0.391830</td>\n",
       "      <td>-1.741760</td>\n",
       "      <td>-0.146670</td>\n",
       "      <td>410.741200</td>\n",
       "      <td>2018-09-05 11:59:56</td>\n",
       "      <td>-167.321683</td>\n",
       "      <td>1.785290</td>\n",
       "    </tr>\n",
       "    <tr>\n",
       "      <td>43197</td>\n",
       "      <td>1.536170e+09</td>\n",
       "      <td>0.025780</td>\n",
       "      <td>-1.586290</td>\n",
       "      <td>0.120960</td>\n",
       "      <td>408.844400</td>\n",
       "      <td>2018-09-05 11:59:57</td>\n",
       "      <td>179.068925</td>\n",
       "      <td>1.586499</td>\n",
       "    </tr>\n",
       "    <tr>\n",
       "      <td>43198</td>\n",
       "      <td>1.536170e+09</td>\n",
       "      <td>-0.332113</td>\n",
       "      <td>-1.542687</td>\n",
       "      <td>-0.014875</td>\n",
       "      <td>408.679900</td>\n",
       "      <td>2018-09-05 11:59:58</td>\n",
       "      <td>-167.850690</td>\n",
       "      <td>1.578032</td>\n",
       "    </tr>\n",
       "    <tr>\n",
       "      <td>43199</td>\n",
       "      <td>1.536170e+09</td>\n",
       "      <td>-0.303240</td>\n",
       "      <td>-1.242120</td>\n",
       "      <td>-0.013080</td>\n",
       "      <td>407.957580</td>\n",
       "      <td>2018-09-05 11:59:59</td>\n",
       "      <td>-166.280679</td>\n",
       "      <td>1.278599</td>\n",
       "    </tr>\n",
       "    <tr>\n",
       "      <td>43200</td>\n",
       "      <td>1.536170e+09</td>\n",
       "      <td>-0.026083</td>\n",
       "      <td>-0.579333</td>\n",
       "      <td>0.260767</td>\n",
       "      <td>407.236733</td>\n",
       "      <td>2018-09-05 12:00:00</td>\n",
       "      <td>-177.422112</td>\n",
       "      <td>0.579920</td>\n",
       "    </tr>\n",
       "  </tbody>\n",
       "</table>\n",
       "<p>7201 rows × 8 columns</p>\n",
       "</div>"
      ],
      "text/plain": [
       "         EPOCH_TIME    ANEM_X    ANEM_Y    ANEM_Z         CO2  \\\n",
       "36000  1.536163e+09  0.162940  0.902600 -0.447760  422.339660   \n",
       "36001  1.536163e+09 -0.506870  0.879580 -0.157040  422.856020   \n",
       "36002  1.536163e+09 -0.550660  0.774480 -0.056800  423.304450   \n",
       "36003  1.536163e+09 -0.403170  0.434370 -0.312370  423.561840   \n",
       "36004  1.536163e+09 -0.478720  0.164330 -0.345800  423.741850   \n",
       "...             ...       ...       ...       ...         ...   \n",
       "43196  1.536170e+09 -0.391830 -1.741760 -0.146670  410.741200   \n",
       "43197  1.536170e+09  0.025780 -1.586290  0.120960  408.844400   \n",
       "43198  1.536170e+09 -0.332113 -1.542687 -0.014875  408.679900   \n",
       "43199  1.536170e+09 -0.303240 -1.242120 -0.013080  407.957580   \n",
       "43200  1.536170e+09 -0.026083 -0.579333  0.260767  407.236733   \n",
       "\n",
       "                 Local_DT   direction     speed  \n",
       "36000 2018-09-05 10:00:00   10.232993  0.917189  \n",
       "36001 2018-09-05 10:00:01  -29.953285  1.015174  \n",
       "36002 2018-09-05 10:00:02  -35.413059  0.950287  \n",
       "36003 2018-09-05 10:00:03  -42.866607  0.592641  \n",
       "36004 2018-09-05 10:00:04  -71.054214  0.506139  \n",
       "...                   ...         ...       ...  \n",
       "43196 2018-09-05 11:59:56 -167.321683  1.785290  \n",
       "43197 2018-09-05 11:59:57  179.068925  1.586499  \n",
       "43198 2018-09-05 11:59:58 -167.850690  1.578032  \n",
       "43199 2018-09-05 11:59:59 -166.280679  1.278599  \n",
       "43200 2018-09-05 12:00:00 -177.422112  0.579920  \n",
       "\n",
       "[7201 rows x 8 columns]"
      ]
     },
     "execution_count": 9,
     "metadata": {},
     "output_type": "execute_result"
    }
   ],
   "source": [
    "#You can test your function here, it should simply show up with a dataframe of the values\n",
    "clip_function(tower,'2018-09-05 10:00:00','2018-09-05 12:00:00')"
   ]
  },
  {
   "cell_type": "code",
   "execution_count": 16,
   "metadata": {},
   "outputs": [
    {
     "data": {
      "image/png": "[encoded data removed]",
      "text/plain": [
       "<Figure size 432x288 with 1 Axes>"
      ]
     },
     "metadata": {
      "needs_background": "light"
     },
     "output_type": "display_data"
    }
   ],
   "source": [
    "#Now we can combine the functions:\n",
    "plotting_func(clip_function(tower,'2018-09-05 10:00:00','2018-09-05 12:00:00'),'ANEM_Y')"
   ]
  }
 ],
 "metadata": {
  "kernelspec": {
   "display_name": "Python 3",
   "language": "python",
   "name": "python3"
  },
  "language_info": {
   "codemirror_mode": {
    "name": "ipython",
    "version": 3
   },
   "file_extension": ".py",
   "mimetype": "text/x-python",
   "name": "python",
   "nbconvert_exporter": "python",
   "pygments_lexer": "ipython3",
   "version": "3.7.1"
  }
 },
 "nbformat": 4,
 "nbformat_minor": 4
}
