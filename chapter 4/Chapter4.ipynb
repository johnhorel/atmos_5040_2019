{
 "cells": [
  {
   "cell_type": "code",
   "execution_count": 23,
   "metadata": {},
   "outputs": [],
   "source": [
    "import numpy as np\n",
    "import pandas as pd\n",
    "import matplotlib.pyplot as plt"
   ]
  },
  {
   "cell_type": "code",
   "execution_count": 25,
   "metadata": {},
   "outputs": [
    {
     "data": {
      "text/plain": [
       "39"
      ]
     },
     "execution_count": 25,
     "metadata": {},
     "output_type": "execute_result"
    }
   ],
   "source": [
    "#Figure 4.1\n",
    "#the data comes from tables such as from the following:\n",
    "#https://wcc.sc.egov.usda.gov/reportGenerator/view/customWaterYearGroupByMonthReport/monthly/start_of_period/820:UT:SNTL%7Cid=%22%22%7Cname/POR_BEGIN,POR_END/PREC::value?fitToScreen=false\n",
    "#read the csv to pandas\n",
    "snow = pd.read_csv(\"../data/snotel_wtr_yr_2019.csv\", names = ['Year','TGL','BLP','BLT','FRM','PAR','PAY','TIM'])\n",
    "#convert to cm\n",
    "snow = snow.apply(lambda x: x*2.54 if x.name in ['TGL','BLP','BLT','FRM','PAR','PAY','TIM'] else x)\n",
    "snow"
   ]
  },
  {
   "cell_type": "code",
   "execution_count": null,
   "metadata": {},
   "outputs": [],
   "source": [
    "\n",
    "#plot totals\n",
    "fig,(ax1,ax2) = plt.subplots(2,1,figsize=(15,7.5))\n",
    "ax1.plot(snow['Year'],snow['BLT'],label='BLT')\n",
    "ax1.plot(snow['Year'],snow['BLP'],color='red',label='BLP')\n",
    "ax1.set_ylabel('Snowfall (cm)')\n",
    "ax1.legend()\n",
    "\n",
    "#match notes - set BLT and BLP to x and y\n",
    "x = snow['BLT']\n",
    "y = snow['BLP']\n",
    "\n",
    "#get means\n",
    "xm = np.mean(x)\n",
    "ym = np.mean(y)\n",
    "\n",
    "#get st devs\n",
    "xs = np.std(x)\n",
    "ys = np.std(y)\n",
    "\n",
    "#get anomalies\n",
    "xprime = x - xm\n",
    "yprime = y - ym\n",
    "\n",
    "#standardize anomalies\n",
    "xstar = xprime/xs\n",
    "ystar = yprime/ys\n",
    "\n",
    "#plot anomalies\n",
    "ax2.plot(snow['Year'],xstar,label='BLT')\n",
    "ax2.plot(snow['Year'],ystar,label='BLP',color='red')\n",
    "ax2.legend()\n",
    "ax2.set_ylabel('ST ANOM')\n",
    "ax2.set_xlabel('Year')\n",
    "\n",
    "plt.show()"
   ]
  },
  {
   "cell_type": "code",
   "execution_count": null,
   "metadata": {},
   "outputs": [],
   "source": [
    "#Brute force regression\n",
    "covar_1 = 0\n",
    "varx_1 = 0\n",
    "vary_1 = 0\n",
    "n = len(snow)\n",
    "for i in range(0,n):\n",
    "    covar_1 = covar_1 + xprime[i]*yprime[i]\n",
    "    varx_1 = varx_1 + xprime[i]*xprime[i]\n",
    "    vary_1 = vary_1 + yprime[i]*yprime[i]\n",
    "\n",
    "covar_1 = covar_1/n\n",
    "varx_1 = varx_1/n\n",
    "vary_1 = vary_1/n\n",
    "\n",
    "b_1 = covar_1/varx_1\n",
    "r_1 = covar_1/np.sqrt(varx_1*vary_1)\n",
    "sdx_1 = np.sqrt(varx_1)\n",
    "sdy_1 = np.sqrt(vary_1)\n",
    "\n",
    "#using linear algebra\n",
    "covar_2 = np.dot(xprime,yprime)\n",
    "varx_2 = np.dot(xprime,xprime)\n",
    "vary_2 = np.dot(yprime,yprime)\n",
    "covar_2 = covar_2/n\n",
    "varx_2 = varx_2/n\n",
    "vary_2 = vary_2/n\n",
    "\n",
    "b_2 = covar_2/varx_2\n",
    "r_2 = covar_2/np.sqrt(varx_2*vary_2)\n",
    "sdx_2 = np.sqrt(varx_2)\n",
    "sdy_2 = np.sqrt(vary_2)\n",
    "\n",
    "#compute estimate of y over range of x's\n",
    "xhat = np.linspace(-50,75,100)\n",
    "yhat = b_2*xhat\n",
    "\n",
    "XH = xm+xhat\n",
    "YH = ym+yhat\n",
    "\n",
    "fig,(ax1,ax2) = plt.subplots(2,1,figsize=(15,7.5))\n",
    "ax1.scatter(x,y,marker='+',s=100)\n",
    "ax1.plot(XH,YH,color='red')\n",
    "ax1.set_xlabel('Ben Lomond Trail')\n",
    "ax1.set_ylabel('Ben Lomond Peak')\n",
    "ax2.scatter(xstar,ystar,marker='+',color='red',s=100)\n",
    "ax2.plot(xhat/xs,yhat/ys)\n",
    "ax2.set_xlabel('Ben Lomond Trail')\n",
    "ax2.set_ylabel('Ben Lomond Peak')\n",
    "plt.show()"
   ]
  },
  {
   "cell_type": "code",
   "execution_count": null,
   "metadata": {},
   "outputs": [],
   "source": [
    "#Figure 6 - hovmuller diagram of standardized temporal anomalies\n",
    "\n",
    "xt = snow.drop('Year',axis=1)\n",
    "xtm = xt.mean(axis=0)\n",
    "xts = np.std(xt)\n",
    "\n",
    "\n",
    "no=7\n",
    "\n",
    "#anomalies\n",
    "xtp = pd.DataFrame()\n",
    "for col in list(xt.columns):\n",
    "    xtp[col] = xt[col].apply(lambda x : x - xtm[col])\n",
    "\n",
    "#standardized anomalies\n",
    "xstar  = pd.DataFrame()\n",
    "for col in list(xtp.columns):\n",
    "    xstar[col] = xtp[col].apply(lambda x : x/xts[col])\n",
    "\n",
    "fig,ax = plt.subplots(figsize=(10,15))\n",
    "ax.invert_yaxis()\n",
    "cf = ax.contourf(np.arange(1,no+1,1),snow['Year'],xstar,extend='both')\n",
    "cs = ax.contour(np.arange(1,no+1,1),snow['Year'],xstar,colors='k', linewidths=1)\n",
    "cbar = plt.colorbar(cf, orientation='horizontal', pad=0.04, aspect=50, extendrect=True)\n",
    "ax.set_xlabel('SNOTEL Stn #')\n",
    "ax.set_ylabel('Year')\n",
    "\n",
    "cbar.set_label('Standardized Normal Anomalies')\n",
    "plt.show()"
   ]
  }
 ],
 "metadata": {
  "kernelspec": {
   "display_name": "Python 3",
   "language": "python",
   "name": "python3"
  },
  "language_info": {
   "codemirror_mode": {
    "name": "ipython",
    "version": 3
   },
   "file_extension": ".py",
   "mimetype": "text/x-python",
   "name": "python",
   "nbconvert_exporter": "python",
   "pygments_lexer": "ipython3",
   "version": "3.7.3"
  }
 },
 "nbformat": 4,
 "nbformat_minor": 4
}
