{
 "cells": [
  {
   "cell_type": "markdown",
   "metadata": {},
   "source": [
    "# Python Review\n",
    "Getting set up: download the github repository by going to this link - https://github.com/johnhorel/atmos_5040_2019. Find the \"Clone or download\" button and copy the link. \n",
    "Open a terminal window on your machine, and find a good place where the folder will live (suggestion - Desktop). "
   ]
  },
  {
   "cell_type": "markdown",
   "metadata": {},
   "source": [
    "### A quick review of linux commands:   \n",
    "**pwd** - 'print working directory', tells you where you are located in the file structure  \n",
    "**ls** - prints all of the files and folders contained within your current directory  \n",
    "**cd Somedirectory/Somesubdirectory** - change your working directory to a different directory. It must be located within the working directory.  \n",
    "**cd ..** - go \"up\" one directory structure  \n",
    "**cd ~** - go to your home (unid) directory  \n",
    "**mv filename newplace/newname** - move a file from the current directory called \"filename\" and put it in the newplace directory under newname.   \n",
    "**cp filename newplace/newname** - just like above, but copy instead of move"
   ]
  },
  {
   "cell_type": "markdown",
   "metadata": {},
   "source": [
    "### Using Git\n",
    "Now navigate to the Desktop within terminal. Run the line of code 'git clone https://github.com/johnhorel/atmos_5040_2019.git' It should begin downloading, and once finished you will have a directory on your desktop called atmos_5040_2019. "
   ]
  },
  {
   "cell_type": "markdown",
   "metadata": {},
   "source": [
    "If you already have the github repository on your desktop, cd into the base directory. Then run the line 'git pull' to pull any new files into your folder. You should do this before every class. If you are getting an error, try running these three lines in succession:   \n",
    "__git add *\\\n",
    "git stash__   \n",
    "__git pull__  "
   ]
  },
  {
   "cell_type": "markdown",
   "metadata": {},
   "source": [
    "### On to Python\n",
    "Let's start working in Python. Open Anaconda, and find JupyterLab or Jupyter notebook (I have come to like lab a little better because you can see your file structure). Find the downloaded git folder and open today's notebook (Oct22_19.ipynb). "
   ]
  },
  {
   "cell_type": "markdown",
   "metadata": {},
   "source": [
    "Lets do a little programming. Run the cell below and modify as you like. "
   ]
  },
  {
   "cell_type": "code",
   "execution_count": 2,
   "metadata": {},
   "outputs": [
    {
     "name": "stdout",
     "output_type": "stream",
     "text": [
      "z =  18\n"
     ]
    }
   ],
   "source": [
    "x = 10\n",
    "y = 8\n",
    "z = x+y\n",
    "print('z = ',z)"
   ]
  },
  {
   "cell_type": "markdown",
   "metadata": {},
   "source": [
    "Since we will be working with data in this class, we need to know how to navigate to its source.  Python uses different syntax than the linux terminal, and we need a separate package to access where we are. "
   ]
  },
  {
   "cell_type": "code",
   "execution_count": 3,
   "metadata": {},
   "outputs": [
    {
     "data": {
      "text/plain": [
       "'C:\\\\Users\\\\agmey\\\\Google Drive\\\\Documents\\\\School\\\\ATMOS\\\\atmos_5040_2019'"
      ]
     },
     "execution_count": 3,
     "metadata": {},
     "output_type": "execute_result"
    }
   ],
   "source": [
    "import os\n",
    "os.getcwd()\n",
    "#os.chdir('')\n"
   ]
  },
  {
   "cell_type": "markdown",
   "metadata": {},
   "source": [
    "### Pandas and Data\n",
    "We'll move right into Pandas and working with data as that will be the majority of this class. "
   ]
  },
  {
   "cell_type": "code",
   "execution_count": 4,
   "metadata": {},
   "outputs": [
    {
     "data": {
      "text/plain": [
       "'0.25.1'"
      ]
     },
     "execution_count": 4,
     "metadata": {},
     "output_type": "execute_result"
    }
   ],
   "source": [
    "import pandas as pd\n",
    "pd.__version__"
   ]
  },
  {
   "cell_type": "code",
   "execution_count": 5,
   "metadata": {},
   "outputs": [],
   "source": [
    "#Creation from numpy arrays\n",
    "import numpy as np\n",
    "x = np.arange(-5,5,1)\n",
    "y = np.arange(10,101,10)\n",
    "z = np.linspace(0,1,10)\n",
    "matrix = [x,y,z]\n",
    "\n",
    "df = pd.DataFrame(matrix).transpose()\n"
   ]
  },
  {
   "cell_type": "code",
   "execution_count": 6,
   "metadata": {},
   "outputs": [
    {
     "data": {
      "text/html": [
       "<div>\n",
       "<style scoped>\n",
       "    .dataframe tbody tr th:only-of-type {\n",
       "        vertical-align: middle;\n",
       "    }\n",
       "\n",
       "    .dataframe tbody tr th {\n",
       "        vertical-align: top;\n",
       "    }\n",
       "\n",
       "    .dataframe thead th {\n",
       "        text-align: right;\n",
       "    }\n",
       "</style>\n",
       "<table border=\"1\" class=\"dataframe\">\n",
       "  <thead>\n",
       "    <tr style=\"text-align: right;\">\n",
       "      <th></th>\n",
       "      <th>col1</th>\n",
       "      <th>col2</th>\n",
       "      <th>col3</th>\n",
       "    </tr>\n",
       "  </thead>\n",
       "  <tbody>\n",
       "    <tr>\n",
       "      <td>0</td>\n",
       "      <td>-5.0</td>\n",
       "      <td>10.0</td>\n",
       "      <td>0.000000</td>\n",
       "    </tr>\n",
       "    <tr>\n",
       "      <td>1</td>\n",
       "      <td>-4.0</td>\n",
       "      <td>20.0</td>\n",
       "      <td>0.111111</td>\n",
       "    </tr>\n",
       "    <tr>\n",
       "      <td>2</td>\n",
       "      <td>-3.0</td>\n",
       "      <td>30.0</td>\n",
       "      <td>0.222222</td>\n",
       "    </tr>\n",
       "    <tr>\n",
       "      <td>3</td>\n",
       "      <td>-2.0</td>\n",
       "      <td>40.0</td>\n",
       "      <td>0.333333</td>\n",
       "    </tr>\n",
       "    <tr>\n",
       "      <td>4</td>\n",
       "      <td>-1.0</td>\n",
       "      <td>50.0</td>\n",
       "      <td>0.444444</td>\n",
       "    </tr>\n",
       "  </tbody>\n",
       "</table>\n",
       "</div>"
      ],
      "text/plain": [
       "   col1  col2      col3\n",
       "0  -5.0  10.0  0.000000\n",
       "1  -4.0  20.0  0.111111\n",
       "2  -3.0  30.0  0.222222\n",
       "3  -2.0  40.0  0.333333\n",
       "4  -1.0  50.0  0.444444"
      ]
     },
     "execution_count": 6,
     "metadata": {},
     "output_type": "execute_result"
    }
   ],
   "source": [
    "#naming columns\n",
    "df.columns = ['col1','col2','col3']\n",
    "df.head()"
   ]
  },
  {
   "cell_type": "code",
   "execution_count": 7,
   "metadata": {},
   "outputs": [
    {
     "data": {
      "text/html": [
       "<div>\n",
       "<style scoped>\n",
       "    .dataframe tbody tr th:only-of-type {\n",
       "        vertical-align: middle;\n",
       "    }\n",
       "\n",
       "    .dataframe tbody tr th {\n",
       "        vertical-align: top;\n",
       "    }\n",
       "\n",
       "    .dataframe thead th {\n",
       "        text-align: right;\n",
       "    }\n",
       "</style>\n",
       "<table border=\"1\" class=\"dataframe\">\n",
       "  <thead>\n",
       "    <tr style=\"text-align: right;\">\n",
       "      <th></th>\n",
       "      <th>col2</th>\n",
       "      <th>col3</th>\n",
       "    </tr>\n",
       "    <tr>\n",
       "      <th>col1</th>\n",
       "      <th></th>\n",
       "      <th></th>\n",
       "    </tr>\n",
       "  </thead>\n",
       "  <tbody>\n",
       "    <tr>\n",
       "      <td>-5.0</td>\n",
       "      <td>10.0</td>\n",
       "      <td>0.000000</td>\n",
       "    </tr>\n",
       "    <tr>\n",
       "      <td>-4.0</td>\n",
       "      <td>20.0</td>\n",
       "      <td>0.111111</td>\n",
       "    </tr>\n",
       "    <tr>\n",
       "      <td>-3.0</td>\n",
       "      <td>30.0</td>\n",
       "      <td>0.222222</td>\n",
       "    </tr>\n",
       "    <tr>\n",
       "      <td>-2.0</td>\n",
       "      <td>40.0</td>\n",
       "      <td>0.333333</td>\n",
       "    </tr>\n",
       "    <tr>\n",
       "      <td>-1.0</td>\n",
       "      <td>50.0</td>\n",
       "      <td>0.444444</td>\n",
       "    </tr>\n",
       "    <tr>\n",
       "      <td>0.0</td>\n",
       "      <td>60.0</td>\n",
       "      <td>0.555556</td>\n",
       "    </tr>\n",
       "    <tr>\n",
       "      <td>1.0</td>\n",
       "      <td>70.0</td>\n",
       "      <td>0.666667</td>\n",
       "    </tr>\n",
       "    <tr>\n",
       "      <td>2.0</td>\n",
       "      <td>80.0</td>\n",
       "      <td>0.777778</td>\n",
       "    </tr>\n",
       "    <tr>\n",
       "      <td>3.0</td>\n",
       "      <td>90.0</td>\n",
       "      <td>0.888889</td>\n",
       "    </tr>\n",
       "    <tr>\n",
       "      <td>4.0</td>\n",
       "      <td>100.0</td>\n",
       "      <td>1.000000</td>\n",
       "    </tr>\n",
       "  </tbody>\n",
       "</table>\n",
       "</div>"
      ],
      "text/plain": [
       "       col2      col3\n",
       "col1                 \n",
       "-5.0   10.0  0.000000\n",
       "-4.0   20.0  0.111111\n",
       "-3.0   30.0  0.222222\n",
       "-2.0   40.0  0.333333\n",
       "-1.0   50.0  0.444444\n",
       " 0.0   60.0  0.555556\n",
       " 1.0   70.0  0.666667\n",
       " 2.0   80.0  0.777778\n",
       " 3.0   90.0  0.888889\n",
       " 4.0  100.0  1.000000"
      ]
     },
     "execution_count": 7,
     "metadata": {},
     "output_type": "execute_result"
    }
   ],
   "source": [
    "#Index manipulation\n",
    "df.set_index('col1')  #inplace=True\n",
    "#df4.reset_index() #Drop=False, inplace = False"
   ]
  },
  {
   "cell_type": "code",
   "execution_count": 8,
   "metadata": {},
   "outputs": [],
   "source": [
    "#Adding a column\n",
    "c4 = ['zero','one','two','three','four','five','six','seven','eight','nine']\n",
    "df['col4'] = c4"
   ]
  },
  {
   "cell_type": "code",
   "execution_count": 9,
   "metadata": {},
   "outputs": [
    {
     "data": {
      "text/html": [
       "<div>\n",
       "<style scoped>\n",
       "    .dataframe tbody tr th:only-of-type {\n",
       "        vertical-align: middle;\n",
       "    }\n",
       "\n",
       "    .dataframe tbody tr th {\n",
       "        vertical-align: top;\n",
       "    }\n",
       "\n",
       "    .dataframe thead th {\n",
       "        text-align: right;\n",
       "    }\n",
       "</style>\n",
       "<table border=\"1\" class=\"dataframe\">\n",
       "  <thead>\n",
       "    <tr style=\"text-align: right;\">\n",
       "      <th></th>\n",
       "      <th>col1</th>\n",
       "      <th>col2</th>\n",
       "      <th>col3</th>\n",
       "    </tr>\n",
       "  </thead>\n",
       "  <tbody>\n",
       "    <tr>\n",
       "      <td>0</td>\n",
       "      <td>-5.0</td>\n",
       "      <td>10.0</td>\n",
       "      <td>0.000000</td>\n",
       "    </tr>\n",
       "    <tr>\n",
       "      <td>1</td>\n",
       "      <td>-4.0</td>\n",
       "      <td>20.0</td>\n",
       "      <td>0.111111</td>\n",
       "    </tr>\n",
       "    <tr>\n",
       "      <td>2</td>\n",
       "      <td>-3.0</td>\n",
       "      <td>30.0</td>\n",
       "      <td>0.222222</td>\n",
       "    </tr>\n",
       "    <tr>\n",
       "      <td>3</td>\n",
       "      <td>-2.0</td>\n",
       "      <td>40.0</td>\n",
       "      <td>0.333333</td>\n",
       "    </tr>\n",
       "    <tr>\n",
       "      <td>4</td>\n",
       "      <td>-1.0</td>\n",
       "      <td>50.0</td>\n",
       "      <td>0.444444</td>\n",
       "    </tr>\n",
       "    <tr>\n",
       "      <td>5</td>\n",
       "      <td>0.0</td>\n",
       "      <td>60.0</td>\n",
       "      <td>0.555556</td>\n",
       "    </tr>\n",
       "    <tr>\n",
       "      <td>6</td>\n",
       "      <td>1.0</td>\n",
       "      <td>70.0</td>\n",
       "      <td>0.666667</td>\n",
       "    </tr>\n",
       "    <tr>\n",
       "      <td>7</td>\n",
       "      <td>2.0</td>\n",
       "      <td>80.0</td>\n",
       "      <td>0.777778</td>\n",
       "    </tr>\n",
       "    <tr>\n",
       "      <td>8</td>\n",
       "      <td>3.0</td>\n",
       "      <td>90.0</td>\n",
       "      <td>0.888889</td>\n",
       "    </tr>\n",
       "    <tr>\n",
       "      <td>9</td>\n",
       "      <td>4.0</td>\n",
       "      <td>100.0</td>\n",
       "      <td>1.000000</td>\n",
       "    </tr>\n",
       "  </tbody>\n",
       "</table>\n",
       "</div>"
      ],
      "text/plain": [
       "   col1   col2      col3\n",
       "0  -5.0   10.0  0.000000\n",
       "1  -4.0   20.0  0.111111\n",
       "2  -3.0   30.0  0.222222\n",
       "3  -2.0   40.0  0.333333\n",
       "4  -1.0   50.0  0.444444\n",
       "5   0.0   60.0  0.555556\n",
       "6   1.0   70.0  0.666667\n",
       "7   2.0   80.0  0.777778\n",
       "8   3.0   90.0  0.888889\n",
       "9   4.0  100.0  1.000000"
      ]
     },
     "execution_count": 9,
     "metadata": {},
     "output_type": "execute_result"
    }
   ],
   "source": [
    "#Dropping a column or row\n",
    "df.drop(['col4'],axis=1,inplace=True)\n",
    "df.drop(9,axis=0)\n",
    "df"
   ]
  },
  {
   "cell_type": "markdown",
   "metadata": {},
   "source": [
    "### Getting data from a file (csv)\n",
    "Instead of creating random data, lets take a look at some actual data. Because of its size, it has been sored as a csv file in the \"data\" folder of the github structure. Feel free to go and find it using the navigator on the left. Let's first use OS to find the location of the file we want. "
   ]
  },
  {
   "cell_type": "code",
   "execution_count": 10,
   "metadata": {},
   "outputs": [
    {
     "data": {
      "text/plain": [
       "['.ipynb_checkpoints',\n",
       " 'alta_snow.csv',\n",
       " 'alta_snow_2019_fig1.png',\n",
       " 'alta_stns.dat',\n",
       " 'bear_river_corinne.csv',\n",
       " 'buoy_51101_wave_height_2019.csv',\n",
       " 'buoy_wave_height_all_var.csv',\n",
       " 'cln_daily_precip.csv',\n",
       " 'gsl_monthly.csv',\n",
       " 'gsl_yr.csv',\n",
       " 'jdh_slc_500ht.txt',\n",
       " 'klamath_river_streamflow.csv',\n",
       " 'lake_powell.csv',\n",
       " 'MEI_1951_2018.txt',\n",
       " 'PNA_1951_2018.txt',\n",
       " 'PREC__value_BLT.txt',\n",
       " 'slc_timeseries.dat',\n",
       " 'slc_time_series.csv',\n",
       " 'snotel_monthly.xlsx',\n",
       " 'snotel_monthly_2019.xlsx',\n",
       " 'snotel_wtr_yr_2018.csv',\n",
       " 'source_data.csv',\n",
       " 'superbowl_bets_2019.csv',\n",
       " 'tower_data.csv',\n",
       " 'utah_precip.csv',\n",
       " 'utah_temp.csv',\n",
       " 'wbb_02_21_19.csv',\n",
       " 'wbb_downslope_winds_02_21_19.csv',\n",
       " 'wbb_wind_0618.csv']"
      ]
     },
     "execution_count": 10,
     "metadata": {},
     "output_type": "execute_result"
    }
   ],
   "source": [
    "os.listdir('data')"
   ]
  },
  {
   "cell_type": "code",
   "execution_count": 38,
   "metadata": {},
   "outputs": [
    {
     "data": {
      "text/html": [
       "<div>\n",
       "<style scoped>\n",
       "    .dataframe tbody tr th:only-of-type {\n",
       "        vertical-align: middle;\n",
       "    }\n",
       "\n",
       "    .dataframe tbody tr th {\n",
       "        vertical-align: top;\n",
       "    }\n",
       "\n",
       "    .dataframe thead th {\n",
       "        text-align: right;\n",
       "    }\n",
       "</style>\n",
       "<table border=\"1\" class=\"dataframe\">\n",
       "  <thead>\n",
       "    <tr style=\"text-align: right;\">\n",
       "      <th></th>\n",
       "      <th>EPOCH_TIME</th>\n",
       "      <th>ANEM_X</th>\n",
       "      <th>ANEM_Y</th>\n",
       "      <th>ANEM_Z</th>\n",
       "      <th>CO2</th>\n",
       "      <th>Local_DT</th>\n",
       "    </tr>\n",
       "  </thead>\n",
       "  <tbody>\n",
       "    <tr>\n",
       "      <td>0</td>\n",
       "      <td>1.536127e+09</td>\n",
       "      <td>-0.01738</td>\n",
       "      <td>0.75190</td>\n",
       "      <td>-1.61544</td>\n",
       "      <td>391.27204</td>\n",
       "      <td>2018-09-05 00:00:00</td>\n",
       "    </tr>\n",
       "    <tr>\n",
       "      <td>1</td>\n",
       "      <td>1.536127e+09</td>\n",
       "      <td>0.03985</td>\n",
       "      <td>0.65336</td>\n",
       "      <td>-1.50370</td>\n",
       "      <td>391.26309</td>\n",
       "      <td>2018-09-05 00:00:01</td>\n",
       "    </tr>\n",
       "    <tr>\n",
       "      <td>2</td>\n",
       "      <td>1.536127e+09</td>\n",
       "      <td>0.02357</td>\n",
       "      <td>0.73497</td>\n",
       "      <td>-1.23240</td>\n",
       "      <td>391.22605</td>\n",
       "      <td>2018-09-05 00:00:02</td>\n",
       "    </tr>\n",
       "    <tr>\n",
       "      <td>3</td>\n",
       "      <td>1.536127e+09</td>\n",
       "      <td>-0.19737</td>\n",
       "      <td>0.73389</td>\n",
       "      <td>-1.04605</td>\n",
       "      <td>391.25355</td>\n",
       "      <td>2018-09-05 00:00:03</td>\n",
       "    </tr>\n",
       "    <tr>\n",
       "      <td>4</td>\n",
       "      <td>1.536127e+09</td>\n",
       "      <td>-0.31871</td>\n",
       "      <td>0.11953</td>\n",
       "      <td>-1.19236</td>\n",
       "      <td>391.28314</td>\n",
       "      <td>2018-09-05 00:00:04</td>\n",
       "    </tr>\n",
       "  </tbody>\n",
       "</table>\n",
       "</div>"
      ],
      "text/plain": [
       "     EPOCH_TIME   ANEM_X   ANEM_Y   ANEM_Z        CO2             Local_DT\n",
       "0  1.536127e+09 -0.01738  0.75190 -1.61544  391.27204  2018-09-05 00:00:00\n",
       "1  1.536127e+09  0.03985  0.65336 -1.50370  391.26309  2018-09-05 00:00:01\n",
       "2  1.536127e+09  0.02357  0.73497 -1.23240  391.22605  2018-09-05 00:00:02\n",
       "3  1.536127e+09 -0.19737  0.73389 -1.04605  391.25355  2018-09-05 00:00:03\n",
       "4  1.536127e+09 -0.31871  0.11953 -1.19236  391.28314  2018-09-05 00:00:04"
      ]
     },
     "execution_count": 38,
     "metadata": {},
     "output_type": "execute_result"
    }
   ],
   "source": [
    "#Importing data from a csv into a pandas dataframe\n",
    "tower = pd.read_csv('data/tower_data.csv') #this one has column names as the first row\n",
    "tower.head()"
   ]
  },
  {
   "cell_type": "code",
   "execution_count": 15,
   "metadata": {},
   "outputs": [
    {
     "data": {
      "text/html": [
       "<div>\n",
       "<style scoped>\n",
       "    .dataframe tbody tr th:only-of-type {\n",
       "        vertical-align: middle;\n",
       "    }\n",
       "\n",
       "    .dataframe tbody tr th {\n",
       "        vertical-align: top;\n",
       "    }\n",
       "\n",
       "    .dataframe thead th {\n",
       "        text-align: right;\n",
       "    }\n",
       "</style>\n",
       "<table border=\"1\" class=\"dataframe\">\n",
       "  <thead>\n",
       "    <tr style=\"text-align: right;\">\n",
       "      <th></th>\n",
       "      <th>EPOCH_TIME</th>\n",
       "      <th>CO2</th>\n",
       "      <th>Local_DT</th>\n",
       "    </tr>\n",
       "  </thead>\n",
       "  <tbody>\n",
       "    <tr>\n",
       "      <td>0</td>\n",
       "      <td>1536127200</td>\n",
       "      <td>442.77</td>\n",
       "      <td>2018-09-05 00:00:00</td>\n",
       "    </tr>\n",
       "    <tr>\n",
       "      <td>1</td>\n",
       "      <td>1536127201</td>\n",
       "      <td>442.67</td>\n",
       "      <td>2018-09-05 00:00:01</td>\n",
       "    </tr>\n",
       "    <tr>\n",
       "      <td>2</td>\n",
       "      <td>1536127202</td>\n",
       "      <td>443.57</td>\n",
       "      <td>2018-09-05 00:00:02</td>\n",
       "    </tr>\n",
       "    <tr>\n",
       "      <td>3</td>\n",
       "      <td>1536127203</td>\n",
       "      <td>444.07</td>\n",
       "      <td>2018-09-05 00:00:03</td>\n",
       "    </tr>\n",
       "    <tr>\n",
       "      <td>4</td>\n",
       "      <td>1536127204</td>\n",
       "      <td>443.09</td>\n",
       "      <td>2018-09-05 00:00:04</td>\n",
       "    </tr>\n",
       "  </tbody>\n",
       "</table>\n",
       "</div>"
      ],
      "text/plain": [
       "   EPOCH_TIME     CO2             Local_DT\n",
       "0  1536127200  442.77  2018-09-05 00:00:00\n",
       "1  1536127201  442.67  2018-09-05 00:00:01\n",
       "2  1536127202  443.57  2018-09-05 00:00:02\n",
       "3  1536127203  444.07  2018-09-05 00:00:03\n",
       "4  1536127204  443.09  2018-09-05 00:00:04"
      ]
     },
     "execution_count": 15,
     "metadata": {},
     "output_type": "execute_result"
    }
   ],
   "source": [
    "source = pd.read_csv('data/source_data.csv',names = ['EPOCH_TIME','CO2','Local_DT']) #names = ['EPOCH_TIME','CO2','Local_DT']\n",
    "source.head()"
   ]
  },
  {
   "cell_type": "markdown",
   "metadata": {},
   "source": [
    "### Plotting and Pandas\n",
    "The best way for us to view our data is often by plotting it. This allows us to visualize any descrepancies or unexpected problems with the data. One thing to always keep track of, regardless of our intentions, is the datatype. "
   ]
  },
  {
   "cell_type": "code",
   "execution_count": 13,
   "metadata": {},
   "outputs": [
    {
     "data": {
      "text/plain": [
       "1536127200               int64\n",
       "442.77                 float64\n",
       "2018-09-05 00:00:00     object\n",
       "dtype: object"
      ]
     },
     "execution_count": 13,
     "metadata": {},
     "output_type": "execute_result"
    }
   ],
   "source": [
    "source.dtypes"
   ]
  },
  {
   "cell_type": "markdown",
   "metadata": {},
   "source": [
    "If we want to plot the local date time, it will cause us immense trouble. Right now it is listed as an \"object\" which our plotting package will have trouble parsing. Since we know it is a datetime, we can convert it. I will keep bashing google into your head, so how could we find out how to convert this column to a datetime object?"
   ]
  },
  {
   "cell_type": "code",
   "execution_count": 40,
   "metadata": {},
   "outputs": [],
   "source": [
    "source['Local_DT'] = pd.to_datetime(source['Local_DT'])\n",
    "tower['Local_DT'] = pd.to_datetime(tower['Local_DT'])"
   ]
  },
  {
   "cell_type": "code",
   "execution_count": 17,
   "metadata": {},
   "outputs": [
    {
     "name": "stderr",
     "output_type": "stream",
     "text": [
      "C:\\Users\\agmey\\Anaconda3\\envs\\CO2_Eddy\\lib\\site-packages\\pandas\\plotting\\_matplotlib\\converter.py:103: FutureWarning: Using an implicitly registered datetime converter for a matplotlib plotting method. The converter was registered by pandas on import. Future versions of pandas will require you to explicitly register matplotlib converters.\n",
      "\n",
      "To register the converters:\n",
      "\t>>> from pandas.plotting import register_matplotlib_converters\n",
      "\t>>> register_matplotlib_converters()\n",
      "  warnings.warn(msg, FutureWarning)\n"
     ]
    },
    {
     "data": {
      "image/png": "[encoded data removed]",
      "text/plain": [
       "<Figure size 432x288 with 1 Axes>"
      ]
     },
     "metadata": {
      "needs_background": "light"
     },
     "output_type": "display_data"
    }
   ],
   "source": [
    "#Simple Plot\n",
    "import matplotlib.pyplot as plt\n",
    "plt.plot(source['Local_DT'],source['CO2'])\n",
    "plt.show()"
   ]
  },
  {
   "cell_type": "code",
   "execution_count": 26,
   "metadata": {},
   "outputs": [
    {
     "data": {
      "image/png": "[encoded data removed]",
      "text/plain": [
       "<Figure size 432x288 with 1 Axes>"
      ]
     },
     "metadata": {
      "needs_background": "light"
     },
     "output_type": "display_data"
    }
   ],
   "source": [
    "#More Control\n",
    "import matplotlib.dates as mdates\n",
    "fig,ax = plt.subplots() #setup the figure\n",
    "ax.plot(source['Local_DT'],source['CO2']) #plot the data\n",
    "ax.xaxis.set_major_formatter(mdates.DateFormatter(\"%H:%M\"))\n",
    "plt.gcf().autofmt_xdate() #get a nice date format for the x axis\n",
    "ax.set_title('CO2 Levels Exiting Vent')\n",
    "ax.set_xlabel('Time')\n",
    "ax.set_ylabel('CO2 (ppm)')\n",
    "plt.show()"
   ]
  },
  {
   "cell_type": "markdown",
   "metadata": {},
   "source": [
    "### Functions\n",
    "A function is a defined piece of code which can take in inputs, perform some operations, and give an outputs. Using functions becomes helpful when we want to do a task over and over with similar input values. "
   ]
  },
  {
   "cell_type": "code",
   "execution_count": 27,
   "metadata": {},
   "outputs": [],
   "source": [
    "#A most basic function - printing the input\n",
    "def myfunc(input1):\n",
    "    print(\"input1 = \",input1)"
   ]
  },
  {
   "cell_type": "code",
   "execution_count": 29,
   "metadata": {},
   "outputs": [
    {
     "name": "stdout",
     "output_type": "stream",
     "text": [
      "input1 =  5\n"
     ]
    }
   ],
   "source": [
    "myfunc(5)"
   ]
  },
  {
   "cell_type": "code",
   "execution_count": 30,
   "metadata": {},
   "outputs": [],
   "source": [
    "#A more complicated function - squaring the input and returning a result\n",
    "def square(input1):\n",
    "    sq = input1**2\n",
    "    return sq"
   ]
  },
  {
   "cell_type": "code",
   "execution_count": 33,
   "metadata": {},
   "outputs": [
    {
     "name": "stdout",
     "output_type": "stream",
     "text": [
      "25\n"
     ]
    }
   ],
   "source": [
    "x = square(5)\n",
    "print(x)"
   ]
  },
  {
   "cell_type": "code",
   "execution_count": 34,
   "metadata": {},
   "outputs": [
    {
     "ename": "NameError",
     "evalue": "name 'input1' is not defined",
     "output_type": "error",
     "traceback": [
      "\u001b[1;31m---------------------------------------------------------------------------\u001b[0m",
      "\u001b[1;31mNameError\u001b[0m                                 Traceback (most recent call last)",
      "\u001b[1;32m<ipython-input-34-316d60f45c7f>\u001b[0m in \u001b[0;36m<module>\u001b[1;34m\u001b[0m\n\u001b[1;32m----> 1\u001b[1;33m \u001b[0mprint\u001b[0m\u001b[1;33m(\u001b[0m\u001b[0minput1\u001b[0m\u001b[1;33m)\u001b[0m\u001b[1;33m\u001b[0m\u001b[1;33m\u001b[0m\u001b[0m\n\u001b[0m",
      "\u001b[1;31mNameError\u001b[0m: name 'input1' is not defined"
     ]
    }
   ],
   "source": [
    "print(input1)"
   ]
  },
  {
   "cell_type": "code",
   "execution_count": 35,
   "metadata": {},
   "outputs": [],
   "source": [
    "#A plotting function\n",
    "def plot_func(dataframe):\n",
    "    fig,ax = plt.subplots() #setup the figure\n",
    "    ax.plot(dataframe['Local_DT'],dataframe['CO2']) #plot the data\n",
    "    ax.xaxis.set_major_formatter(mdates.DateFormatter(\"%H:%M\"))\n",
    "    plt.gcf().autofmt_xdate() #get a nice date format for the x axis\n",
    "    ax.set_title('CO2 Levels Exiting Vent')\n",
    "    ax.set_xlabel('Time')\n",
    "    ax.set_ylabel('CO2 (ppm)')\n",
    "    plt.show()"
   ]
  },
  {
   "cell_type": "code",
   "execution_count": 41,
   "metadata": {},
   "outputs": [
    {
     "data": {
      "image/png": "[encoded data removed]",
      "text/plain": [
       "<Figure size 432x288 with 1 Axes>"
      ]
     },
     "metadata": {
      "needs_background": "light"
     },
     "output_type": "display_data"
    }
   ],
   "source": [
    "plot_func(tower)"
   ]
  },
  {
   "cell_type": "markdown",
   "metadata": {},
   "source": [
    "### Running Functions on Dataframes\n",
    "Often we want to do row and column operations like we would in excel. Take the tower dataset for example - we have and X, Y, and Z velocity. Suppose we want to know the direction and speed of air in the XY plane. How would we create a new column representing these values? "
   ]
  },
  {
   "cell_type": "code",
   "execution_count": 42,
   "metadata": {},
   "outputs": [
    {
     "data": {
      "text/html": [
       "<div>\n",
       "<style scoped>\n",
       "    .dataframe tbody tr th:only-of-type {\n",
       "        vertical-align: middle;\n",
       "    }\n",
       "\n",
       "    .dataframe tbody tr th {\n",
       "        vertical-align: top;\n",
       "    }\n",
       "\n",
       "    .dataframe thead th {\n",
       "        text-align: right;\n",
       "    }\n",
       "</style>\n",
       "<table border=\"1\" class=\"dataframe\">\n",
       "  <thead>\n",
       "    <tr style=\"text-align: right;\">\n",
       "      <th></th>\n",
       "      <th>EPOCH_TIME</th>\n",
       "      <th>ANEM_X</th>\n",
       "      <th>ANEM_Y</th>\n",
       "      <th>ANEM_Z</th>\n",
       "      <th>CO2</th>\n",
       "      <th>Local_DT</th>\n",
       "    </tr>\n",
       "  </thead>\n",
       "  <tbody>\n",
       "    <tr>\n",
       "      <td>0</td>\n",
       "      <td>1.536127e+09</td>\n",
       "      <td>-0.01738</td>\n",
       "      <td>0.75190</td>\n",
       "      <td>-1.61544</td>\n",
       "      <td>391.27204</td>\n",
       "      <td>2018-09-05 00:00:00</td>\n",
       "    </tr>\n",
       "    <tr>\n",
       "      <td>1</td>\n",
       "      <td>1.536127e+09</td>\n",
       "      <td>0.03985</td>\n",
       "      <td>0.65336</td>\n",
       "      <td>-1.50370</td>\n",
       "      <td>391.26309</td>\n",
       "      <td>2018-09-05 00:00:01</td>\n",
       "    </tr>\n",
       "    <tr>\n",
       "      <td>2</td>\n",
       "      <td>1.536127e+09</td>\n",
       "      <td>0.02357</td>\n",
       "      <td>0.73497</td>\n",
       "      <td>-1.23240</td>\n",
       "      <td>391.22605</td>\n",
       "      <td>2018-09-05 00:00:02</td>\n",
       "    </tr>\n",
       "    <tr>\n",
       "      <td>3</td>\n",
       "      <td>1.536127e+09</td>\n",
       "      <td>-0.19737</td>\n",
       "      <td>0.73389</td>\n",
       "      <td>-1.04605</td>\n",
       "      <td>391.25355</td>\n",
       "      <td>2018-09-05 00:00:03</td>\n",
       "    </tr>\n",
       "    <tr>\n",
       "      <td>4</td>\n",
       "      <td>1.536127e+09</td>\n",
       "      <td>-0.31871</td>\n",
       "      <td>0.11953</td>\n",
       "      <td>-1.19236</td>\n",
       "      <td>391.28314</td>\n",
       "      <td>2018-09-05 00:00:04</td>\n",
       "    </tr>\n",
       "  </tbody>\n",
       "</table>\n",
       "</div>"
      ],
      "text/plain": [
       "     EPOCH_TIME   ANEM_X   ANEM_Y   ANEM_Z        CO2            Local_DT\n",
       "0  1.536127e+09 -0.01738  0.75190 -1.61544  391.27204 2018-09-05 00:00:00\n",
       "1  1.536127e+09  0.03985  0.65336 -1.50370  391.26309 2018-09-05 00:00:01\n",
       "2  1.536127e+09  0.02357  0.73497 -1.23240  391.22605 2018-09-05 00:00:02\n",
       "3  1.536127e+09 -0.19737  0.73389 -1.04605  391.25355 2018-09-05 00:00:03\n",
       "4  1.536127e+09 -0.31871  0.11953 -1.19236  391.28314 2018-09-05 00:00:04"
      ]
     },
     "execution_count": 42,
     "metadata": {},
     "output_type": "execute_result"
    }
   ],
   "source": [
    "tower.head()"
   ]
  }
 ],
 "metadata": {
  "kernelspec": {
   "display_name": "Python 3",
   "language": "python",
   "name": "python3"
  },
  "language_info": {
   "codemirror_mode": {
    "name": "ipython",
    "version": 3
   },
   "file_extension": ".py",
   "mimetype": "text/x-python",
   "name": "python",
   "nbconvert_exporter": "python",
   "pygments_lexer": "ipython3",
   "version": "3.7.1"
  }
 },
 "nbformat": 4,
 "nbformat_minor": 4
}
