{
 "cells": [
  {
   "cell_type": "markdown",
   "metadata": {},
   "source": [
    "# Central Limit Demo\n",
    "John Horel\n",
    "ATMOS 5040/ Spring 2019\n",
    "January 21 2019\n",
    "ATMOS 5040: Environmental Statistics\n",
    "John Horel\n",
    "\n",
    "Download this notebook and all images and data by downloading the ZIP file from GitHub, or use the git command:\n",
    "\n",
    "git clone https://github.com/johnhorel/ATMOS_5040_2019.git\n",
    "Note: Windows users will have to install git for Windows and execute the git command from the PowerShell."
   ]
  },
  {
   "cell_type": "code",
   "execution_count": 15,
   "metadata": {},
   "outputs": [],
   "source": [
    "import numpy as np\n",
    "import matplotlib.pyplot as plt"
   ]
  },
  {
   "cell_type": "code",
   "execution_count": 16,
   "metadata": {},
   "outputs": [
    {
     "name": "stdout",
     "output_type": "stream",
     "text": [
      "enter the number of sides on the die (6 or 10 or...): 6\n",
      "enter the sample size (number of dice to roll at the same time): 10\n",
      "enter the number of rolls: 100\n"
     ]
    }
   ],
   "source": [
    "sides = input('enter the number of sides on the die (6 or 10 or...): ')\n",
    "dice = input('enter the sample size (number of dice to roll at the same time): ')\n",
    "rolls = input('enter the number of rolls: ')\n",
    "sides = int(sides)\n",
    "dice = int(dice)\n",
    "rolls = int(rolls)"
   ]
  },
  {
   "cell_type": "code",
   "execution_count": 17,
   "metadata": {},
   "outputs": [],
   "source": [
    "rd = np.random.random_sample((rolls,dice))\n",
    "#print(rd)"
   ]
  },
  {
   "cell_type": "code",
   "execution_count": 18,
   "metadata": {},
   "outputs": [],
   "source": [
    "rdd = np.ceil(sides*rd)\n",
    "#print(rdd)"
   ]
  },
  {
   "cell_type": "code",
   "execution_count": 19,
   "metadata": {},
   "outputs": [],
   "source": [
    "#define the population as all the possible rolls\n",
    "pop = rdd.flatten();\n",
    "#compute std of population\n",
    "pstd = np.std(pop,ddof=1);"
   ]
  },
  {
   "cell_type": "code",
   "execution_count": 20,
   "metadata": {},
   "outputs": [
    {
     "name": "stdout",
     "output_type": "stream",
     "text": [
      "35.07 3.5069999999999997\n",
      "population standrd deviation= 1.7\n",
      "standard deviation of sample means= 0.6\n",
      "check for central limit theorem= 0.5\n"
     ]
    }
   ],
   "source": [
    "#compute the sum and mean of the samples\n",
    "if dice>1:\n",
    "    ss = np.sum(rdd,axis=1)\n",
    "    sm = np.mean(rdd,axis=1)\n",
    "else:\n",
    "    ss = rdd\n",
    "    sm = rdd \n",
    "    \n",
    "mean_sum = np.mean(ss)\n",
    "mean_mean = np.mean(sm)\n",
    "print(mean_sum, mean_mean)\n",
    "\n",
    "#compute the std of the sample means \n",
    "sstd = np.std(sm,ddof=0);\n",
    "%does the central limit theorem work? is the following close to sstd?\n",
    "check = pstd/np.sqrt(dice);\n",
    "print(\"population standrd deviation= %.1f\" % pstd)\n",
    "print(\"standard deviation of sample means= %.1f\" % sstd)\n",
    "print(\"check for central limit theorem= %.1f\" % check)\n"
   ]
  },
  {
   "cell_type": "code",
   "execution_count": 21,
   "metadata": {},
   "outputs": [
    {
     "data": {
      "text/plain": [
       "[Text(0.5,1,'Sample Means')]"
      ]
     },
     "execution_count": 21,
     "metadata": {},
     "output_type": "execute_result"
    },
    {
     "data": {
      "image/png": "[encoded data removed]",
      "text/plain": [
       "<Figure size 720x720 with 3 Axes>"
      ]
     },
     "metadata": {},
     "output_type": "display_data"
    }
   ],
   "source": [
    "fig,(ax1,ax2,ax3) = plt.subplots(3,1,figsize=(10,10))\n",
    "x = np.arange(0,rolls*dice)\n",
    "ax1.bar(x,pop)\n",
    "ax1.set(xlabel=\"\",ylabel='Roll Value')\n",
    "ax1.set(title='Population- each die is rolled independently ')\n",
    "x2 = np.arange(1,sides*dice)\n",
    "hist_val,bins = np.histogram(ss,x2)\n",
    "width = 0.6 * (bins[1] - bins[0])\n",
    "center = (bins[:-1] + bins[1:]) / 2\n",
    "ax2.bar(center,hist_val,align='center',width=width)\n",
    "ax2.set(xlim=(dice,sides*dice))\n",
    "ax2.set(xlabel=\"\",ylabel='# of Occurrences')\n",
    "ax2.set(title='Sample Sums')\n",
    "\n",
    "x3 = np.arange(1-.5*1/dice,sides+.5*1/dice,1/dice);\n",
    "hist_val,bins = np.histogram(sm,x3)\n",
    "width = 0.6 * (bins[1] - bins[0])\n",
    "center = (bins[:-1] + bins[1:]) / 2\n",
    "ax3.bar(center,hist_val,align='center',width=width)\n",
    "ax3.set(xlim=(1,sides))\n",
    "ax3.set(xlabel=\"\",ylabel='# of Occurrences')\n",
    "ax3.set(title='Sample Means')"
   ]
  }
 ],
 "metadata": {
  "kernelspec": {
   "display_name": "Python 3",
   "language": "python",
   "name": "python3"
  },
  "language_info": {
   "codemirror_mode": {
    "name": "ipython",
    "version": 3
   },
   "file_extension": ".py",
   "mimetype": "text/x-python",
   "name": "python",
   "nbconvert_exporter": "python",
   "pygments_lexer": "ipython3",
   "version": "3.6.5"
  }
 },
 "nbformat": 4,
 "nbformat_minor": 2
}
